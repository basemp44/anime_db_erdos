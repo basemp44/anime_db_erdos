{
 "cells": [
  {
   "cell_type": "code",
   "execution_count": 41,
   "metadata": {},
   "outputs": [],
   "source": [
    "import requests\n",
    "import time\n",
    "\n",
    "def get_image(image_obj):\n",
    "    return image_obj.get('large_image_url') or image_obj.get('image_url') or image_obj.get('small_image_url')\n",
    "\n",
    "def format_anime_response(anime):\n",
    "    return dict(\n",
    "        mal_id = anime['mal_id'],\n",
    "        image = get_image(anime['images'].get('webp', anime['images'].get('jpg', dict()))),\n",
    "        title = anime['title'],\n",
    "        titles = [t['title'] for t in anime['titles']],\n",
    "        rank = anime['rank'],\n",
    "        popularity = anime['popularity'],\n",
    "        members = anime['members'],\n",
    "        studios = [dict(mal_id = st['mal_id'], name = st['name']) for st in anime['studios']]\n",
    "    )\n",
    "\n",
    "def format_response(response_json):\n",
    "    data = response_json['data']\n",
    "    return dict(\n",
    "        df_anime_genre = \n",
    "        df_anime_studio = \n",
    "        df_anime_producer = \n",
    "        df_anime_title = \n",
    "        df_anime_images =\n",
    "        df_genre = pd.DataFrame([gen for anime in data for gen in anime['genre']]),\n",
    "        df_studio = pd.DataFrame([st for anime in data for st in anime['studios']]),\n",
    "        df_producer = pd.DataFrame([gen for anime in data for gen in anime['producers']]),\n",
    "        df_anime = \n",
    "    )"
   ]
  },
  {
   "cell_type": "code",
   "execution_count": 93,
   "metadata": {},
   "outputs": [],
   "source": [
    "responses = []\n",
    "page = 1\n",
    "has_next_page = True\n",
    "\n",
    "while (has_next_page):\n",
    "    print(page)\n",
    "    response = requests.get(f'https://api.jikan.moe/v4/anime?page={page}')\n",
    "    response_json = response.json()\n",
    "    responses.append(response_json)\n",
    "    page = page + 1\n",
    "    has_next_page = response_json['pagination']['has_next_page']\n",
    "    time.sleep(1.1)\n"
   ]
  },
  {
   "cell_type": "code",
   "execution_count": 94,
   "metadata": {},
   "outputs": [],
   "source": [
    "import joblib\n",
    "joblib.dump(responses, 'anime_responses.pkl')"
   ]
  },
  {
   "cell_type": "code",
   "execution_count": 104,
   "metadata": {},
   "outputs": [],
   "source": [
    "from genson import SchemaBuilder\n",
    "from itertools import chain\n",
    "import joblib\n",
    "joblib.dump(responses, 'anime_responses.pkl')\n",
    "response_list = list(chain(*[r['data'] for r in responses]))\n",
    "\n",
    "builder = SchemaBuilder()\n",
    "builder.add_schema({\"type\": \"object\", \"properties\": {}})\n",
    "for anime in response_list:\n",
    "    builder.add_object(anime)\n",
    "builder.to_schema()\n"
   ]
  }
 ],
 "metadata": {
  "kernelspec": {
   "display_name": "Python 3",
   "language": "python",
   "name": "python3"
  },
  "language_info": {
   "codemirror_mode": {
    "name": "ipython",
    "version": 3
   },
   "file_extension": ".py",
   "mimetype": "text/x-python",
   "name": "python",
   "nbconvert_exporter": "python",
   "pygments_lexer": "ipython3",
   "version": "3.9.13"
  },
  "orig_nbformat": 4
 },
 "nbformat": 4,
 "nbformat_minor": 2
}
