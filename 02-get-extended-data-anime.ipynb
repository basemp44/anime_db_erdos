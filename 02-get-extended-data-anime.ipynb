{
 "cells": [
  {
   "cell_type": "code",
   "execution_count": 60,
   "metadata": {},
   "outputs": [],
   "source": [
    "from itertools import chain\n",
    "import joblib\n",
    "import requests\n",
    "import time"
   ]
  },
  {
   "cell_type": "code",
   "execution_count": 61,
   "metadata": {},
   "outputs": [],
   "source": [
    "responses = joblib.load('anime_responses.pkl')\n",
    "response_list = list(chain(*[r['data'] for r in responses]))"
   ]
  },
  {
   "cell_type": "code",
   "execution_count": 62,
   "metadata": {},
   "outputs": [],
   "source": [
    "staffs = []\n",
    "\n",
    "for i,anime in enumerate(response_list):\n",
    "    print(i)\n",
    "    anime_id = anime['mal_id']\n",
    "    response = requests.get(f'https://api.jikan.moe/v4/anime/{anime_id}/staff')\n",
    "    staffs.append([anime_id, response.json()])\n",
    "    if (i%500) == 0:\n",
    "        joblib.dump(staffs, f'staffs-{i}.pkl')\n",
    "    time.sleep(1)\n",
    "\n",
    "\n",
    "joblib.dump(staffs, 'staffs.pkl')"
   ]
  },
  {
   "cell_type": "code",
   "execution_count": 20,
   "metadata": {},
   "outputs": [],
   "source": [
    "characters = []\n",
    "for i,anime in enumerate(response_list):\n",
    "    print(i)\n",
    "    anime_id = anime['mal_id']\n",
    "    response = requests.get(f'https://api.jikan.moe/v4/anime/{anime_id}/characters')\n",
    "    characters.append([anime_id, response.json()])\n",
    "    if (i%500) == 0:\n",
    "        joblib.dump(characters, f'characters-{13500+i}.pkl')\n",
    "    time.sleep(1)\n",
    "\n",
    "\n",
    "joblib.dump(characters, 'characters.pkl')"
   ]
  },
  {
   "cell_type": "code",
   "execution_count": null,
   "metadata": {},
   "outputs": [],
   "source": []
  }
 ],
 "metadata": {
  "kernelspec": {
   "display_name": "Python 3",
   "language": "python",
   "name": "python3"
  },
  "language_info": {
   "codemirror_mode": {
    "name": "ipython",
    "version": 3
   },
   "file_extension": ".py",
   "mimetype": "text/x-python",
   "name": "python",
   "nbconvert_exporter": "python",
   "pygments_lexer": "ipython3",
   "version": "3.9.13"
  },
  "orig_nbformat": 4
 },
 "nbformat": 4,
 "nbformat_minor": 2
}
