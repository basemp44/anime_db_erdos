{
 "cells": [
  {
   "cell_type": "code",
   "execution_count": 2,
   "metadata": {},
   "outputs": [],
   "source": [
    "import joblib\n",
    "import pandas as pd\n",
    "import sqlite3 as sq\n",
    "\n",
    "from itertools import chain\n",
    "\n",
    "from src.db import (\n",
    "    execute_fetchall,\n",
    "    get_schema,\n",
    "    get_schemas,\n",
    "    get_schemas,\n",
    "    drop_table,\n",
    "    get_tables,\n",
    "    count_tables,\n",
    "    get_table,\n",
    "    update_db\n",
    ")\n",
    "\n",
    "from src.format import (\n",
    "    format_anime_base,\n",
    "    format_X,\n",
    "    format_anime_X,\n",
    "    format_anime_title,\n",
    "    format_anime\n",
    ")"
   ]
  },
  {
   "cell_type": "code",
   "execution_count": 6,
   "metadata": {},
   "outputs": [],
   "source": [
    "db = 'animedb.sqlite'"
   ]
  },
  {
   "cell_type": "code",
   "execution_count": 7,
   "metadata": {},
   "outputs": [],
   "source": [
    "get_schemas(db = db)"
   ]
  },
  {
   "cell_type": "code",
   "execution_count": 8,
   "metadata": {},
   "outputs": [],
   "source": [
    "tables = get_tables(db = db)\n",
    "count_tables(tables, db = db)"
   ]
  },
  {
   "cell_type": "code",
   "execution_count": 3,
   "metadata": {},
   "outputs": [],
   "source": [
    "responses = joblib.load('anime_responses.pkl')\n",
    "response_list = list(chain(*[r['data'] for r in responses]))"
   ]
  },
  {
   "cell_type": "code",
   "execution_count": 19,
   "metadata": {},
   "outputs": [],
   "source": [
    "df_anime_new = pd\\\n",
    "    .concat([\n",
    "        format_anime_base(anime)\n",
    "        for anime in response_list]\n",
    "    )\\\n",
    "    .assign(index=-1)\\\n",
    "    .set_index('index')"
   ]
  },
  {
   "cell_type": "code",
   "execution_count": 20,
   "metadata": {},
   "outputs": [],
   "source": [
    "df_anime_old = get_table('anime', db = db)"
   ]
  },
  {
   "cell_type": "code",
   "execution_count": 39,
   "metadata": {},
   "outputs": [],
   "source": [
    "df_anime_keep = pd\\\n",
    "    .concat([df_anime_old, df_anime_new])\\\n",
    "    .drop_duplicates(\n",
    "        subset=['anime_id', 'status', 'aired_from', 'aired_from', 'aired_to'],\n",
    "        keep='first'\n",
    "    )\n",
    "anime_ids = df_anime_keep[df_anime_keep.index < 0]['anime_id']\n",
    "anime_ids"
   ]
  },
  {
   "cell_type": "code",
   "execution_count": 55,
   "metadata": {},
   "outputs": [],
   "source": [
    "response_list_keep = [r for r in response_list if r['mal_id'] in anime_ids.values]\n",
    "len(response_list_keep)"
   ]
  },
  {
   "cell_type": "code",
   "execution_count": 56,
   "metadata": {},
   "outputs": [],
   "source": [
    "joblib.dump(response_list_keep, 'anime_responses_keep.pkl')"
   ]
  },
  {
   "cell_type": "code",
   "execution_count": 47,
   "metadata": {},
   "outputs": [],
   "source": [
    "animesf = [format_anime(anime, i) for i,anime in enumerate(response_list_keep)]"
   ]
  },
  {
   "cell_type": "code",
   "execution_count": 48,
   "metadata": {},
   "outputs": [],
   "source": [
    "df_anime = pd.concat([anime['df_anime'] for anime in animesf])\n",
    "df_producer = pd.concat([anime['df_producer'] for anime in animesf]).drop_duplicates()\n",
    "df_licensor = pd.concat([anime['df_licensor'] for anime in animesf]).drop_duplicates()\n",
    "df_studio = pd.concat([anime['df_studio'] for anime in animesf]).drop_duplicates()\n",
    "df_genre = pd.concat([anime['df_genre'] for anime in animesf]).drop_duplicates()\n",
    "df_theme = pd.concat([anime['df_theme'] for anime in animesf]).drop_duplicates()\n",
    "df_demographic = pd.concat([anime['df_demographic'] for anime in animesf]).drop_duplicates()\n",
    "df_anime_producer = pd.concat([anime['df_anime_producer'] for anime in animesf])\n",
    "df_anime_licensor = pd.concat([anime['df_anime_licensor'] for anime in animesf])\n",
    "df_anime_studio = pd.concat([anime['df_anime_studio'] for anime in animesf])\n",
    "df_anime_genre = pd.concat([anime['df_anime_genre'] for anime in animesf])\n",
    "df_anime_theme = pd.concat([anime['df_anime_theme'] for anime in animesf])\n",
    "df_anime_demographic = pd.concat([anime['df_anime_demographic'] for anime in animesf])\n",
    "df_anime_title = pd.concat([anime['df_anime_title'] for anime in animesf])"
   ]
  },
  {
   "cell_type": "code",
   "execution_count": 50,
   "metadata": {},
   "outputs": [],
   "source": [
    "update_db(df_anime,             'anime',             ['anime_id'],                   db=db)\n",
    "update_db(df_producer,          'producer',          ['producer_id'],                db=db)\n",
    "update_db(df_licensor,          'licensor',          ['licensor_id'],                db=db)\n",
    "update_db(df_studio,            'studio',            ['studio_id'],                  db=db)\n",
    "update_db(df_genre,             'genre',             ['genre_id'],                   db=db)\n",
    "update_db(df_theme,             'theme',             ['theme_id'],                   db=db)\n",
    "update_db(df_demographic,       'demographic',       ['demographic_id'],             db=db)\n",
    "update_db(df_anime_producer,    'anime_producer',    ['anime_id', 'producer_id'],    db=db)\n",
    "update_db(df_anime_licensor,    'anime_licensor',    ['anime_id', 'licensor_id'],    db=db)\n",
    "update_db(df_anime_studio,      'anime_studio',      ['anime_id', 'studio_id'],      db=db)\n",
    "update_db(df_anime_genre,       'anime_genre',       ['anime_id', 'genre_id'],       db=db)\n",
    "update_db(df_anime_theme,       'anime_theme',       ['anime_id', 'theme_id'],       db=db)\n",
    "update_db(df_anime_demographic, 'anime_demographic', ['anime_id', 'demographic_id'], db=db)\n",
    "update_db(df_anime_title,       'anime_title',       ['anime_id', 'title'],          db=db)"
   ]
  },
  {
   "cell_type": "code",
   "execution_count": 54,
   "metadata": {},
   "outputs": [],
   "source": [
    "count_tables(tables, db = db)"
   ]
  },
  {
   "cell_type": "code",
   "execution_count": null,
   "metadata": {},
   "outputs": [],
   "source": []
  }
 ],
 "metadata": {
  "kernelspec": {
   "display_name": "Python 3",
   "language": "python",
   "name": "python3"
  },
  "language_info": {
   "codemirror_mode": {
    "name": "ipython",
    "version": 3
   },
   "file_extension": ".py",
   "mimetype": "text/x-python",
   "name": "python",
   "nbconvert_exporter": "python",
   "pygments_lexer": "ipython3",
   "version": "3.9.13"
  },
  "orig_nbformat": 4
 },
 "nbformat": 4,
 "nbformat_minor": 2
}
