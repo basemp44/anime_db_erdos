{
 "cells": [
  {
   "cell_type": "code",
   "execution_count": 1,
   "metadata": {},
   "outputs": [],
   "source": [
    "from itertools import chain\n",
    "import joblib\n",
    "import requests\n",
    "import time"
   ]
  },
  {
   "cell_type": "code",
   "execution_count": 8,
   "metadata": {},
   "outputs": [],
   "source": [
    "response_list = joblib.load('anime_responses_keep.pkl')"
   ]
  },
  {
   "cell_type": "code",
   "execution_count": 9,
   "metadata": {},
   "outputs": [],
   "source": [
    "len([r for r in response_list if r['mal_id'] > 0]), len(response_list)"
   ]
  },
  {
   "cell_type": "code",
   "execution_count": 14,
   "metadata": {},
   "outputs": [],
   "source": [
    "import pandas as pd\n",
    "pd.DataFrame([r['mal_id'] for r in response_list])"
   ]
  },
  {
   "cell_type": "code",
   "execution_count": 10,
   "metadata": {},
   "outputs": [],
   "source": [
    "staffs = []\n",
    "for anime in response_list:\n",
    "    try:\n",
    "        print(len(staffs))\n",
    "        anime_id = anime['mal_id']\n",
    "        response = requests.get(f'https://api.jikan.moe/v4/anime/{anime_id}/staff')\n",
    "        staffs.append([anime_id, response.json()])\n",
    "        if (len(staffs)%500) == 0:\n",
    "            joblib.dump(staffs, f'staffs-{len(staffs)}.pkl')\n",
    "        time.sleep(1)\n",
    "    except:\n",
    "        print(f'Exception: {anime_id}')\n",
    "        staffs.append([anime_id, None])"
   ]
  },
  {
   "cell_type": "code",
   "execution_count": 11,
   "metadata": {},
   "outputs": [],
   "source": [
    "characters = []\n",
    "\n",
    "for anime in response_list:\n",
    "    try:\n",
    "        print(len(characters))\n",
    "        anime_id = anime['mal_id']\n",
    "        response = requests.get(f'https://api.jikan.moe/v4/anime/{anime_id}/characters')\n",
    "        characters.append([anime_id, response.json()])\n",
    "        if (len(characters)%500) == 0:\n",
    "            joblib.dump(characters, f'characters-{len(characters)}.pkl')\n",
    "        time.sleep(1)\n",
    "    except:\n",
    "        print(f'Exception: {anime_id}')\n",
    "        staffs.append([anime_id, dict()])"
   ]
  },
  {
   "cell_type": "code",
   "execution_count": 19,
   "metadata": {},
   "outputs": [],
   "source": [
    "(\n",
    "    len([s for s in staffs if 'data' in s[1]]),\n",
    "    len([s for s in characters if 'data' in s[1]])\n",
    ")"
   ]
  },
  {
   "cell_type": "code",
   "execution_count": 20,
   "metadata": {},
   "outputs": [],
   "source": [
    "joblib.dump(staffs, 'staffs.pkl')\n",
    "joblib.dump(characters, 'characters.pkl')"
   ]
  },
  {
   "cell_type": "code",
   "execution_count": null,
   "metadata": {},
   "outputs": [],
   "source": []
  }
 ],
 "metadata": {
  "kernelspec": {
   "display_name": "Python 3",
   "language": "python",
   "name": "python3"
  },
  "language_info": {
   "codemirror_mode": {
    "name": "ipython",
    "version": 3
   },
   "file_extension": ".py",
   "mimetype": "text/x-python",
   "name": "python",
   "nbconvert_exporter": "python",
   "pygments_lexer": "ipython3",
   "version": "3.9.13"
  },
  "orig_nbformat": 4
 },
 "nbformat": 4,
 "nbformat_minor": 2
}
