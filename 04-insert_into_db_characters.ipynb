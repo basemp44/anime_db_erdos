{
 "cells": [
  {
   "cell_type": "code",
   "execution_count": 1,
   "metadata": {},
   "outputs": [],
   "source": [
    "import joblib\n",
    "import pandas as pd\n",
    "import sqlite3 as sq\n",
    "\n",
    "from itertools import chain"
   ]
  },
  {
   "cell_type": "code",
   "execution_count": 2,
   "metadata": {},
   "outputs": [],
   "source": [
    "from src.db import (\n",
    "    get_schemas,\n",
    "    update_db,\n",
    "    get_tables,\n",
    "    count_tables\n",
    ")\n",
    "\n",
    "from src.format import format_all_characters"
   ]
  },
  {
   "cell_type": "code",
   "execution_count": 3,
   "metadata": {},
   "outputs": [],
   "source": [
    "db = 'animedb.sqlite'"
   ]
  },
  {
   "cell_type": "code",
   "execution_count": 4,
   "metadata": {},
   "outputs": [],
   "source": [
    "characters = joblib.load('characters.pkl')"
   ]
  },
  {
   "cell_type": "code",
   "execution_count": 5,
   "metadata": {},
   "outputs": [],
   "source": [
    "get_schemas(db = db)"
   ]
  },
  {
   "cell_type": "code",
   "execution_count": 6,
   "metadata": {},
   "outputs": [],
   "source": [
    "tables = get_tables(db = db)\n",
    "count_tables(tables, db = db)"
   ]
  },
  {
   "cell_type": "code",
   "execution_count": 7,
   "metadata": {},
   "outputs": [],
   "source": [
    "dict_df_characters = format_all_characters(characters)"
   ]
  },
  {
   "cell_type": "code",
   "execution_count": 8,
   "metadata": {},
   "outputs": [],
   "source": [
    "df_character = dict_df_characters['df_character']\n",
    "df_voiceactors = dict_df_characters['df_voiceactors']\n",
    "df_character_voiceactors = dict_df_characters['df_character_voiceactors']\n",
    "df_anime_character = dict_df_characters['df_anime_character']"
   ]
  },
  {
   "cell_type": "code",
   "execution_count": 10,
   "metadata": {},
   "outputs": [],
   "source": [
    "update_db(df_character,             'character'           , ['character_id'],                  db=db)\n",
    "update_db(df_voiceactors,           'voiceactor'          , 'voiceactor_id',                   db=db, recreate=False)\n",
    "update_db(df_character_voiceactors, 'character_voiceactor', ['character_id', 'voiceactor_id'], db=db)\n",
    "update_db(df_anime_character,       'anime_character'     , ['anime_id', 'character_id'],      db=db)"
   ]
  },
  {
   "cell_type": "code",
   "execution_count": 11,
   "metadata": {},
   "outputs": [],
   "source": [
    "count_tables(tables, db = db)"
   ]
  },
  {
   "cell_type": "code",
   "execution_count": null,
   "metadata": {},
   "outputs": [],
   "source": []
  }
 ],
 "metadata": {
  "kernelspec": {
   "display_name": "Python 3",
   "language": "python",
   "name": "python3"
  },
  "language_info": {
   "codemirror_mode": {
    "name": "ipython",
    "version": 3
   },
   "file_extension": ".py",
   "mimetype": "text/x-python",
   "name": "python",
   "nbconvert_exporter": "python",
   "pygments_lexer": "ipython3",
   "version": "3.9.13"
  },
  "orig_nbformat": 4
 },
 "nbformat": 4,
 "nbformat_minor": 2
}
