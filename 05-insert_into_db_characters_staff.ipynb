{
 "cells": [
  {
   "cell_type": "code",
   "execution_count": 115,
   "metadata": {},
   "outputs": [],
   "source": [
    "import joblib\n",
    "import pandas as pd\n",
    "import sqlite3 as sq\n",
    "\n",
    "from src.db import (\n",
    "    execute_fetchall,\n",
    "    get_schema,\n",
    "    get_schemas,\n",
    "    get_schemas,\n",
    "    drop_table,\n",
    "    get_tables,\n",
    "    count_tables,\n",
    "    get_table,\n",
    "    update_db\n",
    ")\n",
    "\n",
    "from src.format import (\n",
    "    format_anime_base,\n",
    "    format_X,\n",
    "    format_anime_X,\n",
    "    format_anime_title,\n",
    "    format_anime,\n",
    "    format_all_staff\n",
    ")"
   ]
  },
  {
   "cell_type": "code",
   "execution_count": 116,
   "metadata": {},
   "outputs": [],
   "source": [
    "db = 'animedb.sqlite'"
   ]
  },
  {
   "cell_type": "code",
   "execution_count": 117,
   "metadata": {},
   "outputs": [],
   "source": [
    "staff_anime = joblib.load('staffs.pkl')"
   ]
  },
  {
   "cell_type": "code",
   "execution_count": 122,
   "metadata": {},
   "outputs": [],
   "source": [
    "get_schemas(db)"
   ]
  },
  {
   "cell_type": "code",
   "execution_count": 123,
   "metadata": {},
   "outputs": [],
   "source": [
    "tables = get_tables(db = db)\n",
    "count_tables(tables, db = db)"
   ]
  },
  {
   "cell_type": "code",
   "execution_count": 124,
   "metadata": {},
   "outputs": [],
   "source": [
    "dict_staff = format_all_staff(staff_anime)\n",
    "df_staff = dict_staff['df_staff']\n",
    "df_anime_staff = dict_staff['df_anime_staff']"
   ]
  },
  {
   "cell_type": "code",
   "execution_count": 125,
   "metadata": {},
   "outputs": [],
   "source": [
    "update_db(df_staff,       'staff',       ['staff_id'],                         db=db_name)\n",
    "update_db(df_anime_staff, 'anime_staff', ['anime_id', 'staff_id', 'position'], db=db_name)"
   ]
  },
  {
   "cell_type": "code",
   "execution_count": 126,
   "metadata": {},
   "outputs": [],
   "source": [
    "count_tables(tables, db = db)"
   ]
  },
  {
   "cell_type": "code",
   "execution_count": null,
   "metadata": {},
   "outputs": [],
   "source": []
  }
 ],
 "metadata": {
  "kernelspec": {
   "display_name": "Python 3",
   "language": "python",
   "name": "python3"
  },
  "language_info": {
   "codemirror_mode": {
    "name": "ipython",
    "version": 3
   },
   "file_extension": ".py",
   "mimetype": "text/x-python",
   "name": "python",
   "nbconvert_exporter": "python",
   "pygments_lexer": "ipython3",
   "version": "3.9.13"
  },
  "orig_nbformat": 4
 },
 "nbformat": 4,
 "nbformat_minor": 2
}
