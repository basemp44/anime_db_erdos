{
 "cells": [
  {
   "cell_type": "code",
   "execution_count": 14,
   "metadata": {},
   "outputs": [],
   "source": [
    "import joblib\n",
    "import pandas as pd\n",
    "import sqlite3 as sq\n",
    "\n",
    "import requests\n",
    "import time\n",
    "\n",
    "from src.db import (\n",
    "    execute_fetchall,\n",
    "    get_schema,\n",
    "    get_schemas,\n",
    "    get_schemas,\n",
    "    drop_table,\n",
    "    get_tables,\n",
    "    count_tables,\n",
    "    get_table,\n",
    "    update_db\n",
    ")\n",
    "\n",
    "from src.format import (\n",
    "    format_anime_base,\n",
    "    format_X,\n",
    "    format_anime_X,\n",
    "    format_anime_title,\n",
    "    format_anime,\n",
    "    format_all_staff\n",
    ")"
   ]
  },
  {
   "cell_type": "code",
   "execution_count": 3,
   "metadata": {},
   "outputs": [],
   "source": [
    "db = 'animedb.sqlite'"
   ]
  },
  {
   "cell_type": "code",
   "execution_count": 4,
   "metadata": {},
   "outputs": [],
   "source": [
    "df_va = get_table('voiceactor', db = db)"
   ]
  },
  {
   "cell_type": "code",
   "execution_count": 9,
   "metadata": {},
   "outputs": [],
   "source": [
    "subset_columns_update = [\n",
    "    'website_url',\n",
    "    'given_name',\n",
    "    'family_name',\n",
    "    'birthday',\n",
    "    'favorites',\n",
    "    'about'\n",
    "]\n",
    "\n",
    "idx_no_update = df_va\\\n",
    "    .dropna(how = 'all', subset = subset_columns_update)\\\n",
    "    ['voiceactor_id']\n",
    "\n",
    "df_va_request = df_va[~df_va.isin(idx_no_update)]"
   ]
  },
  {
   "cell_type": "code",
   "execution_count": 10,
   "metadata": {},
   "outputs": [],
   "source": [
    "df_va_request"
   ]
  },
  {
   "cell_type": "code",
   "execution_count": 16,
   "metadata": {},
   "outputs": [],
   "source": [
    "vas = []\n",
    "for va in df_va_request['voiceactor_id']:\n",
    "    try:\n",
    "        print(len(vas))\n",
    "        response = requests.get(f'https://api.jikan.moe/v4/people/{va}')\n",
    "        vas.append(response.json())\n",
    "        if (len(vas)%500) == 0:\n",
    "            joblib.dump(vas, f'vas-{len(vas)}.pkl')\n",
    "        time.sleep(1)\n",
    "    except:\n",
    "        print(f'Exception: {va}')\n",
    "        vas.append([va, None])"
   ]
  },
  {
   "cell_type": "code",
   "execution_count": 17,
   "metadata": {},
   "outputs": [],
   "source": [
    "joblib.dump(vas, f'vas.pkl')"
   ]
  },
  {
   "cell_type": "code",
   "execution_count": null,
   "metadata": {
    "vscode": {
     "languageId": "javascript"
    }
   },
   "outputs": [],
   "source": []
  }
 ],
 "metadata": {
  "kernelspec": {
   "display_name": "Python 3",
   "language": "python",
   "name": "python3"
  },
  "language_info": {
   "codemirror_mode": {
    "name": "ipython",
    "version": 3
   },
   "file_extension": ".py",
   "mimetype": "text/x-python",
   "name": "python",
   "nbconvert_exporter": "python",
   "pygments_lexer": "ipython3",
   "version": "3.9.13"
  },
  "orig_nbformat": 4
 },
 "nbformat": 4,
 "nbformat_minor": 2
}
