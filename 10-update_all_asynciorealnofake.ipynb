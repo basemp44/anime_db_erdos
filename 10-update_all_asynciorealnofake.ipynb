{
 "cells": [
  {
   "cell_type": "code",
   "execution_count": 1,
   "metadata": {},
   "outputs": [],
   "source": [
    "import asyncio\n",
    "\n",
    "from src.api import request_api_animes\n",
    "from src.workers import worker_request\n",
    "from src.workers import worker_process\n",
    "from src.workers import worker_join"
   ]
  },
  {
   "cell_type": "code",
   "execution_count": 2,
   "metadata": {},
   "outputs": [],
   "source": [
    "async def main(logger, mode=dict(), request_params=dict(), db='animedb.sqlite'):\n",
    "    logger.info('Starting anime update')\n",
    "    logger.info(f'Mode: {mode}')\n",
    "    logger.info(f'Request params: {request_params}')\n",
    "\n",
    "    queue_request = asyncio.Queue()\n",
    "    queue_process = asyncio.Queue()\n",
    "    queue_final   = asyncio.Queue()\n",
    "\n",
    "    queue_request.put_nowait(['anime', 1, request_api_animes(request_params)])\n",
    "    task_request = asyncio.create_task(worker_request(\n",
    "        [queue_request, queue_process],\n",
    "        logger = logger,\n",
    "        sleep = 1\n",
    "    ))\n",
    "    task_process = asyncio.create_task(worker_process(\n",
    "        [queue_request, queue_process, queue_final],\n",
    "        dict(\n",
    "            mode = mode,\n",
    "            request_params = request_params,\n",
    "            db = db\n",
    "        ),\n",
    "        logger = logger,\n",
    "        sleep = 1\n",
    "    ))\n",
    "    task_join = asyncio.create_task(worker_join(\n",
    "        queue_final,\n",
    "        logger = logger,\n",
    "        sleep = 2\n",
    "    ))\n",
    "\n",
    "    logger.info('Waiting for task_process')\n",
    "    await asyncio.wait_for(task_process, 86400)\n",
    "    logger.info('Stopping task_request...')\n",
    "    task_request.cancel()\n",
    "    logger.info('Mark task_done in queue_request...')\n",
    "    queue_final.task_done() # last item should be marked to done\n",
    "    logger.info('Waiting for queue_final...')\n",
    "    await queue_final.join()\n",
    "    logger.info('Stopping task_join...')\n",
    "    task_join.cancel()\n",
    "    return await queue_final.get()\n",
    "\n"
   ]
  },
  {
   "cell_type": "code",
   "execution_count": 3,
   "metadata": {},
   "outputs": [],
   "source": [
    "import logging\n",
    "\n",
    "def create_logger(name):\n",
    "    formatter = logging.Formatter(\n",
    "        fmt='%(asctime)s %(levelname)-8s %(message)s',\n",
    "        datefmt='%Y-%m-%d %H:%M:%S'\n",
    "    )\n",
    "\n",
    "    file_handler = logging.FileHandler('logger-work.log', mode='w')\n",
    "    file_handler.setFormatter(formatter)\n",
    "\n",
    "    logger = logging.getLogger(name)\n",
    "    logger.setLevel(logging.DEBUG)\n",
    "    logger.addHandler(file_handler)\n",
    "\n",
    "    return logger"
   ]
  },
  {
   "cell_type": "code",
   "execution_count": 4,
   "metadata": {},
   "outputs": [],
   "source": [
    "logger = create_logger('logger-work')"
   ]
  },
  {
   "cell_type": "code",
   "execution_count": 5,
   "metadata": {},
   "outputs": [],
   "source": [
    "dicts = await main(\n",
    "    mode = dict(\n",
    "        type = 'newest',\n",
    "    ),\n",
    "    request_params = dict(\n",
    "        order_by = 'start_date',\n",
    "        start_date = '2023-06-01'\n",
    "    ),\n",
    "    logger = logger,\n",
    "    db='animedb.sqlite'\n",
    ")"
   ]
  },
  {
   "cell_type": "code",
   "execution_count": 7,
   "metadata": {},
   "outputs": [],
   "source": [
    "# def get_request_params(mode, mode_kwargs):\n",
    "#     modes_request = dict(\n",
    "#         full_recreate = dict(page=1),\n",
    "#         all = dict(page=1),\n",
    "#         newest = dict(\n",
    "#             order_by = 'start_date',\n",
    "#             start_date = modes_kwargs.get('start_date', '2023-01-01'),\n",
    "#             page=1\n",
    "#         ),\n",
    "#         scores = dict(\n",
    "#             order_by = 'scored_by',\n",
    "#             page=1\n",
    "#         )\n",
    "#     )\n",
    "\n",
    "#     return modes_request.get('mode', dict(page=1))\n",
    "#     request_params = get_request_params(mode, mode_kwargs)"
   ]
  }
 ],
 "metadata": {
  "kernelspec": {
   "display_name": "Python 3",
   "language": "python",
   "name": "python3"
  },
  "language_info": {
   "codemirror_mode": {
    "name": "ipython",
    "version": 3
   },
   "file_extension": ".py",
   "mimetype": "text/x-python",
   "name": "python",
   "nbconvert_exporter": "python",
   "pygments_lexer": "ipython3",
   "version": "3.9.13"
  },
  "orig_nbformat": 4
 },
 "nbformat": 4,
 "nbformat_minor": 2
}
