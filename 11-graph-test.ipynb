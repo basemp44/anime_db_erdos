{
 "cells": [
  {
   "cell_type": "code",
   "execution_count": 1,
   "metadata": {},
   "outputs": [],
   "source": [
    "import joblib\n",
    "import pandas as pd\n",
    "import sqlite3 as sq\n",
    "\n",
    "from itertools import chain\n",
    "\n",
    "from src.db import (\n",
    "    execute_fetchall,\n",
    "    get_schema,\n",
    "    get_schemas,\n",
    "    get_schemas,\n",
    "    drop_table,\n",
    "    get_tables,\n",
    "    count_tables,\n",
    "    get_table,\n",
    "    update_db\n",
    ")\n",
    "\n",
    "from src.format import (\n",
    "    format_anime_base,\n",
    "    format_X,\n",
    "    format_anime_X,\n",
    "    format_anime_title,\n",
    "    format_anime\n",
    ")"
   ]
  },
  {
   "cell_type": "code",
   "execution_count": 2,
   "metadata": {},
   "outputs": [],
   "source": [
    "db = 'animedb.sqlite'"
   ]
  },
  {
   "cell_type": "code",
   "execution_count": 3,
   "metadata": {},
   "outputs": [],
   "source": [
    "df_anime                = get_table('anime', db)\n",
    "df_anime_title          = get_table('anime_title', db)\n",
    "df_character            = get_table('character', db)\n",
    "df_voiceactor           = get_table('voiceactor', db)\n",
    "df_staff                = get_table('staff', db)\n",
    "df_anime_character      = get_table('anime_character', db)\n",
    "df_character_voiceactor = get_table('character_voiceactor', db)\n",
    "df_anime_staff          = get_table('anime_staff', db)\n"
   ]
  },
  {
   "cell_type": "code",
   "execution_count": 4,
   "metadata": {},
   "outputs": [],
   "source": [
    "df_anime_f = df_anime.merge(\n",
    "    df_anime_title[df_anime_title['type'] == 'Default'][['anime_id', 'title']]\n",
    ")[['anime_id', 'title', 'image_webp', 'score', 'scored_by', 'popularity']]"
   ]
  },
  {
   "cell_type": "code",
   "execution_count": null,
   "metadata": {},
   "outputs": [],
   "source": [
    "df_anime['id']      = ('A_' + df_anime['anime_id'].astype(str))\n",
    "df_character['id']  = ('C_' + df_character['character_id'].astype(str))\n",
    "df_voiceactor['id'] = ('V_' + df_voiceactor['voiceactor_id'].astype(str))\n",
    "df_staff['id']      = ('S_' + df_staff['staff_id'].astype(str))"
   ]
  },
  {
   "cell_type": "code",
   "execution_count": 5,
   "metadata": {},
   "outputs": [],
   "source": [
    "import networkx as nx\n",
    "G = nx.Graph()\n",
    "\n",
    "G.add_nodes_from(pd.concat([\n",
    "    ('A_' + df_anime['anime_id'].astype(str)),\n",
    "    ('C_' + df_character['character_id'].astype(str)),\n",
    "    ('V_' + df_voiceactor['voiceactor_id'].astype(str)),\n",
    "    ('S_' + df_staff['staff_id'].astype(str))\n",
    "]).values)"
   ]
  },
  {
   "cell_type": "code",
   "execution_count": 6,
   "metadata": {},
   "outputs": [],
   "source": [
    "G.add_edges_from(pd.concat([\n",
    "    ('A_' + df_anime_character['anime_id'].astype(str)),\n",
    "    ('C_' + df_anime_character['character_id'].astype(str))\n",
    "], axis=1).values)\n",
    "\n",
    "G.add_edges_from(pd.concat([\n",
    "    ('C_' + df_character_voiceactor['character_id'].astype(str)),\n",
    "    ('V_' + df_character_voiceactor['voiceactor_id'].astype(str))\n",
    "], axis=1).values)\n",
    "\n",
    "G.add_edges_from(pd.concat([\n",
    "    ('A_' + df_anime_staff['anime_id'].astype(str)),\n",
    "    ('S_' + df_anime_staff['staff_id'].astype(str))\n",
    "], axis=1).values)\n"
   ]
  },
  {
   "cell_type": "code",
   "execution_count": 10,
   "metadata": {},
   "outputs": [],
   "source": [
    "[(s, [t for t in G.neighbors(s) if t.startswith('A')]) for s in G.neighbors('V_1')]"
   ]
  },
  {
   "cell_type": "code",
   "execution_count": 100,
   "metadata": {},
   "outputs": [],
   "source": [
    "def unformat(s):\n",
    "    if s.startswith('A'):\n",
    "        return df_anime_f[df_anime_f['anime_id'] == int(s[2:])][['title']].assign(type='anime').values\n",
    "    elif s.startswith('C'):\n",
    "        return df_character[df_character['character_id'] == int(s[2:])][['name']].assign(type='character').values\n",
    "    elif s.startswith('V'):\n",
    "        return df_voiceactor[df_voiceactor['voiceactor_id'] == int(s[2:])][['name']].assign(type='voiceactor').values\n",
    "    else:\n",
    "        return df_staff[df_staff['staff_id'] == int(s[2:])][['name']].assign(type='staff').values"
   ]
  },
  {
   "cell_type": "code",
   "execution_count": 118,
   "metadata": {},
   "outputs": [],
   "source": [
    "paths = [p for p in nx.all_shortest_paths(G, 'V_12961', 'V_1')]"
   ]
  },
  {
   "cell_type": "code",
   "execution_count": 119,
   "metadata": {},
   "outputs": [],
   "source": [
    "paths"
   ]
  },
  {
   "cell_type": "code",
   "execution_count": 120,
   "metadata": {},
   "outputs": [],
   "source": [
    "import numpy as np\n",
    "[pd.concat([pd.DataFrame(unformat(n)) for n in p]) for p in paths]"
   ]
  },
  {
   "cell_type": "code",
   "execution_count": 89,
   "metadata": {},
   "outputs": [],
   "source": [
    "H = G.subgraph(['V_12961', 'V_34785'])"
   ]
  },
  {
   "cell_type": "code",
   "execution_count": 37,
   "metadata": {},
   "outputs": [],
   "source": [
    "df_anime_filter_nsw = df_anime\\\n",
    "    [~df_anime['rating'].isin(['R+ - Mild Nudity', 'Rx - Hentai'])]"
   ]
  },
  {
   "cell_type": "code",
   "execution_count": 43,
   "metadata": {},
   "outputs": [],
   "source": [
    "df_anime_filter_nsw[['anime_id', 'image_webp', ]]"
   ]
  },
  {
   "cell_type": "code",
   "execution_count": null,
   "metadata": {},
   "outputs": [],
   "source": []
  }
 ],
 "metadata": {
  "kernelspec": {
   "display_name": "Python 3",
   "language": "python",
   "name": "python3"
  },
  "language_info": {
   "codemirror_mode": {
    "name": "ipython",
    "version": 3
   },
   "file_extension": ".py",
   "mimetype": "text/x-python",
   "name": "python",
   "nbconvert_exporter": "python",
   "pygments_lexer": "ipython3",
   "version": "3.9.13"
  },
  "orig_nbformat": 4
 },
 "nbformat": 4,
 "nbformat_minor": 2
}
