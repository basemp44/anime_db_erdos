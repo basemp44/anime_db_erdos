{
 "cells": [
  {
   "cell_type": "code",
   "execution_count": 21,
   "metadata": {},
   "outputs": [],
   "source": [
    "import gzip\n",
    "import joblib\n",
    "import pandas as pd\n",
    "import sqlite3 as sq\n",
    "import json\n",
    "\n",
    "from functools import reduce\n",
    "from operator import add\n",
    "from itertools import chain\n",
    "from toolz import reduceby\n",
    "\n",
    "from src.db import (\n",
    "    get_table,\n",
    ")"
   ]
  },
  {
   "cell_type": "code",
   "execution_count": 22,
   "metadata": {},
   "outputs": [],
   "source": [
    "def to_nested_dict(df, key1, key2, columns_keep=[]):\n",
    "    if len(columns_keep):\n",
    "        return {\n",
    "            k1: df\\\n",
    "                [df[key1] == k1]\\\n",
    "                .drop(key1, axis=1)\\\n",
    "                .set_index(key2)\\\n",
    "                [columns_keep]\\\n",
    "                .to_dict(orient='index')\n",
    "            for k1 in df[key1].unique()\n",
    "        }\n",
    "    else:\n",
    "        return reduceby(\n",
    "            key1,\n",
    "            lambda d1, d2: d1 + [d2[key2]],\n",
    "            df[[key1, key2]].to_dict(orient='records'),\n",
    "            []\n",
    "        )\n",
    "\n",
    "\n",
    "def fillna_default(df):\n",
    "    df[df.select_dtypes('object').columns] = df.select_dtypes('object').fillna('')\n",
    "    df[df.select_dtypes('float64').columns] = df.select_dtypes('float64').fillna(0)\n",
    "    return df\n",
    "\n",
    "\n",
    "def get_nas_types(df):\n",
    "    df_res = pd.concat([df.isna().sum().rename('nas'), df.dtypes.rename('type')], axis=1)\n",
    "    return df_res[df_res['nas'] > 0].sort_values('type')\n",
    "\n",
    "\n",
    "def compress_data(data, filename):\n",
    "    # Convert to JSON\n",
    "    json_data = json.dumps(data, indent=2)\n",
    "    # Convert to bytes\n",
    "    encoded = json_data.encode('utf-8')\n",
    "    # Compress\n",
    "    compressed = gzip.compress(encoded)\n",
    "    f = open(filename, 'wb')\n",
    "    f.write(compressed)"
   ]
  },
  {
   "cell_type": "code",
   "execution_count": 23,
   "metadata": {},
   "outputs": [],
   "source": [
    "db = 'animedb.sqlite'"
   ]
  },
  {
   "cell_type": "code",
   "execution_count": 24,
   "metadata": {},
   "outputs": [],
   "source": [
    "df_anime = get_table('anime', db, [\n",
    "    'anime_id',\n",
    "    'image_webp',\n",
    "    'status',\n",
    "    'scored_by',\n",
    "    'rank',\n",
    "    'rating'\n",
    "])\n",
    "\n",
    "df_anime_title = get_table('anime_title', db)\n",
    "\n",
    "df_character = get_table('character', db, [\n",
    "    'character_id',\n",
    "    'name',\n",
    "    'images_webp_image_url'\n",
    "])\n",
    "\n",
    "df_voiceactor = get_table('voiceactor', db, [\n",
    "    'voiceactor_id',\n",
    "    'name',\n",
    "    'image_url',\n",
    "    'favorites'\n",
    "])\n",
    "\n",
    "df_staff = get_table('staff', db, [\n",
    "    'staff_id',\n",
    "    'image_url',\n",
    "    'name'\n",
    "])\n",
    "\n",
    "df_anime_character = get_table('anime_character', db)\n",
    "\n",
    "df_character_voiceactor = get_table('character_voiceactor', db)\n",
    "\n",
    "df_anime_staff = get_table('anime_staff', db)"
   ]
  },
  {
   "cell_type": "code",
   "execution_count": 25,
   "metadata": {},
   "outputs": [],
   "source": [
    "df_anime_f = df_anime[\n",
    "    ~df_anime['rating'].isin(['Rx - Hentai']) &\n",
    "    (df_anime['scored_by'] > 0)\n",
    "]\n",
    "\n",
    "df_anime_f = df_anime_f\\\n",
    "    .merge(df_anime_title[df_anime_title['type'] == 'Default'])\\\n",
    "    .sort_values(['scored_by', 'title'], ascending=[False, True])\\\n",
    "    .drop(['type', 'rating'], axis=1)\n",
    "\n",
    "df_anime_f['image_webp'] = df_anime_f['image_webp'].str[30:]\n",
    "df_anime_f['scored_by'] = df_anime_f['scored_by'].fillna(0).astype(int)\n",
    "df_anime_f['rank'] = df_anime_f['rank'].fillna(0).astype(int)"
   ]
  },
  {
   "cell_type": "code",
   "execution_count": 26,
   "metadata": {},
   "outputs": [],
   "source": [
    "df_anime_f[df_anime_f['anime_id'] == 32768]"
   ]
  },
  {
   "cell_type": "code",
   "execution_count": 27,
   "metadata": {},
   "outputs": [],
   "source": [
    "df_character_anime_f = df_character\\\n",
    "    .merge(df_anime_character)\\\n",
    "    .merge(df_anime_f[['anime_id', 'scored_by', 'title']])\\\n",
    "    .drop('role', axis=1)\n",
    "\n",
    "df_character_anime_f['images_webp_image_url'] = df_character_anime_f['images_webp_image_url'].str[30:]\n",
    "\n",
    "df_character_f = df_character_anime_f\\\n",
    "    .sort_values(['favorites', 'name'], ascending=[False, True])\\\n",
    "    .drop(['anime_id', 'scored_by', 'title'], axis=1)\\\n",
    "    .drop_duplicates(subset='character_id')\n",
    "\n",
    "df_anime_character_ff = df_character_anime_f\\\n",
    "    .sort_values(['anime_id', 'favorites', 'name'], ascending=[True, False, True])\\\n",
    "    [['anime_id', 'character_id']]\n",
    "df_character_anime_ff = df_character_anime_f\\\n",
    "    .sort_values(['character_id', 'scored_by', 'title'], ascending=[True, False, True])\\\n",
    "    [['character_id', 'anime_id']]\n",
    "df_character_f"
   ]
  },
  {
   "cell_type": "code",
   "execution_count": 28,
   "metadata": {},
   "outputs": [],
   "source": [
    "df_voiceactor_character_f = df_voiceactor\\\n",
    "    .merge(df_character_voiceactor)\\\n",
    "    .merge(df_character_f[['character_id', 'favorites', 'name']].rename({\n",
    "        'favorites': 'favorites_c',\n",
    "        'name': 'name_c'\n",
    "    }, axis=1))\n",
    "df_voiceactor_character_f['image_url'] = df_voiceactor_character_f['image_url'].str[30:]\n",
    "df_voiceactor_f = df_voiceactor_character_f\\\n",
    "    .sort_values(['favorites', 'name'], ascending=[False, True])\\\n",
    "    .drop(['character_id', 'favorites_c', 'name_c'], axis=1)\\\n",
    "    .drop_duplicates(subset='voiceactor_id')\n",
    "df_character_voiceactor_ff = df_voiceactor_character_f\\\n",
    "    .sort_values(['character_id', 'favorites', 'name'], ascending=[True, False, True])\\\n",
    "    [['character_id', 'voiceactor_id']]\n",
    "df_voiceactor_character_ff = df_voiceactor_character_f\\\n",
    "    .sort_values(['voiceactor_id', 'favorites_c', 'name_c'], ascending=[True, False, True])\\\n",
    "    [['voiceactor_id', 'character_id']]"
   ]
  },
  {
   "cell_type": "code",
   "execution_count": 29,
   "metadata": {},
   "outputs": [],
   "source": [
    "df_staff_anime_f = df_staff\\\n",
    "    .merge(df_anime_staff)\\\n",
    "    .merge(df_anime_f[['anime_id', 'scored_by', 'title']])\n",
    "df_staff_anime_f['image_url'] = df_staff_anime_f['image_url'].str[30:]\n",
    "df_staff_f = df_staff_anime_f\\\n",
    "    .sort_values(['scored_by', 'name'], ascending=[False, True])\\\n",
    "    .drop(['anime_id', 'position', 'scored_by', 'title'], axis=1)\\\n",
    "    .drop_duplicates(subset='staff_id')\n",
    "df_anime_staff_ff = df_staff_anime_f\\\n",
    "    .sort_values(['anime_id', 'name'], ascending=[True, True])\\\n",
    "    [['anime_id', 'staff_id']]\n",
    "df_staff_anime_ff = df_staff_anime_f\\\n",
    "    .sort_values(['staff_id', 'scored_by', 'title'], ascending=[True, False, True])\\\n",
    "    [['staff_id', 'anime_id']]"
   ]
  },
  {
   "cell_type": "code",
   "execution_count": 30,
   "metadata": {},
   "outputs": [],
   "source": [
    "character_weights=[\n",
    "    int(character_id)\n",
    "    for character_id, favorites in (df_character_f.set_index('character_id')['favorites']//100).reset_index().values\n",
    "    for _ in range(favorites)\n",
    "]"
   ]
  },
  {
   "cell_type": "code",
   "execution_count": 31,
   "metadata": {},
   "outputs": [],
   "source": [
    "def to_orient_dict(df, index):\n",
    "    return df\\\n",
    "        .set_index(index, drop=False)\\\n",
    "        .to_dict(orient='index')\n",
    "\n",
    "\n",
    "def to_orient_list(df, index):\n",
    "    return {\n",
    "        k:list(v.values())\n",
    "        for k,v in to_orient_dict(df, index).items()\n",
    "    }"
   ]
  },
  {
   "cell_type": "code",
   "execution_count": 32,
   "metadata": {},
   "outputs": [],
   "source": [
    "def make_dict_data(\n",
    "    df_anime_f,\n",
    "    df_character_f,\n",
    "    df_voiceactor_f,\n",
    "    df_staff_f,\n",
    "    df_anime_character_ff,\n",
    "    df_character_anime_ff,\n",
    "    df_anime_staff_ff,\n",
    "    df_staff_anime_ff,\n",
    "    df_character_voiceactor_ff,\n",
    "    df_voiceactor_character_ff,\n",
    "    character_weights,\n",
    "    format_single,\n",
    "    format_multiple\n",
    "):\n",
    "    return dict(\n",
    "        anime = format_single(df_anime_f, 'anime_id'),\n",
    "        character = format_single(df_character_f, 'character_id'),\n",
    "        voiceactor = format_single(df_voiceactor_f, 'voiceactor_id'),\n",
    "        staff = format_single(df_staff_f, 'staff_id'),\n",
    "        anime_character = format_multiple(df_anime_character_ff, 'anime_id', 'character_id'),\n",
    "        character_anime = format_multiple(df_character_anime_ff, 'character_id', 'anime_id'),\n",
    "        anime_staff = format_multiple(df_anime_staff_ff, 'anime_id', 'staff_id'),\n",
    "        staff_anime = format_multiple(df_staff_anime_ff, 'staff_id', 'anime_id'),\n",
    "        character_voiceactor = format_multiple(df_character_voiceactor_ff, 'character_id', 'voiceactor_id'),\n",
    "        voiceactor_character = format_multiple(df_voiceactor_character_ff, 'voiceactor_id', 'character_id'),\n",
    "        character_weights = character_weights\n",
    "    )"
   ]
  },
  {
   "cell_type": "code",
   "execution_count": 34,
   "metadata": {},
   "outputs": [],
   "source": [
    "output_orient_dict = make_dict_data(\n",
    "    df_anime_f = df_anime_f,\n",
    "    df_character_f = df_character_f,\n",
    "    df_voiceactor_f = df_voiceactor_f,\n",
    "    df_staff_f = df_staff_f,\n",
    "    df_anime_character_ff = df_anime_character_ff,\n",
    "    df_character_anime_ff = df_character_anime_ff,\n",
    "    df_anime_staff_ff = df_anime_staff_ff,\n",
    "    df_staff_anime_ff = df_staff_anime_ff,\n",
    "    df_character_voiceactor_ff = df_character_voiceactor_ff,\n",
    "    df_voiceactor_character_ff = df_voiceactor_character_ff,\n",
    "    character_weights = character_weights,\n",
    "    format_single = to_orient_dict,\n",
    "    format_multiple = to_nested_dict\n",
    ")"
   ]
  },
  {
   "cell_type": "code",
   "execution_count": null,
   "metadata": {},
   "outputs": [],
   "source": [
    "output_orient_list = make_dict_data(\n",
    "    df_anime_f = df_anime_f,\n",
    "    df_character_f = df_character_f,\n",
    "    df_voiceactor_f = df_voiceactor_f,\n",
    "    df_staff_f = df_staff_f,\n",
    "    df_anime_character_ff = df_anime_character_ff,\n",
    "    df_character_anime_ff = df_character_anime_ff,\n",
    "    df_anime_staff_ff = df_anime_staff_ff,\n",
    "    df_staff_anime_ff = df_staff_anime_ff,\n",
    "    df_character_voiceactor_ff = df_character_voiceactor_ff,\n",
    "    df_voiceactor_character_ff = df_voiceactor_character_ff,\n",
    "    character_weights = character_weights,\n",
    "    format_single = to_orient_list,\n",
    "    format_multiple = to_nested_dict\n",
    ")"
   ]
  },
  {
   "cell_type": "code",
   "execution_count": null,
   "metadata": {},
   "outputs": [],
   "source": [
    "with open('animu_erdos/src/animedbdict.json', 'w') as f:\n",
    "    json.dump(output_orient_dict, f)\n",
    "\n",
    "with open('animu_erdos/src/animedblist.json', 'w') as f:\n",
    "    json.dump(output_orient_list, f)"
   ]
  },
  {
   "cell_type": "code",
   "execution_count": null,
   "metadata": {},
   "outputs": [],
   "source": [
    "adsfasfasfa"
   ]
  },
  {
   "cell_type": "code",
   "execution_count": null,
   "metadata": {},
   "outputs": [],
   "source": [
    "s=df_anime_title.to_json(orient='records')\n",
    "s[:1000]"
   ]
  },
  {
   "cell_type": "code",
   "execution_count": null,
   "metadata": {},
   "outputs": [],
   "source": [
    "df_anime_f = df_anime.merge(\n",
    "    df_anime_title[df_anime_title['type'] == 'Default'][['anime_id', 'title']]\n",
    ")[['anime_id', 'title', 'image_webp', 'score', 'scored_by', 'popularity']]"
   ]
  },
  {
   "cell_type": "code",
   "execution_count": null,
   "metadata": {},
   "outputs": [],
   "source": [
    "df_anime['id']      = ('A_' + df_anime['anime_id'].astype(str))\n",
    "df_character['id']  = ('C_' + df_character['character_id'].astype(str))\n",
    "df_voiceactor['id'] = ('V_' + df_voiceactor['voiceactor_id'].astype(str))\n",
    "df_staff['id']      = ('S_' + df_staff['staff_id'].astype(str))"
   ]
  },
  {
   "cell_type": "code",
   "execution_count": null,
   "metadata": {},
   "outputs": [],
   "source": [
    "import networkx as nx\n",
    "G = nx.Graph()\n",
    "\n",
    "G.add_nodes_from(pd.concat([\n",
    "    ('A_' + df_anime['anime_id'].astype(str)),\n",
    "    ('C_' + df_character['character_id'].astype(str)),\n",
    "    ('V_' + df_voiceactor['voiceactor_id'].astype(str)),\n",
    "    ('S_' + df_staff['staff_id'].astype(str))\n",
    "]).values)"
   ]
  },
  {
   "cell_type": "code",
   "execution_count": null,
   "metadata": {},
   "outputs": [],
   "source": [
    "G.add_edges_from(pd.concat([\n",
    "    ('A_' + df_anime_character['anime_id'].astype(str)),\n",
    "    ('C_' + df_anime_character['character_id'].astype(str))\n",
    "], axis=1).values)\n",
    "\n",
    "G.add_edges_from(pd.concat([\n",
    "    ('C_' + df_character_voiceactor['character_id'].astype(str)),\n",
    "    ('V_' + df_character_voiceactor['voiceactor_id'].astype(str))\n",
    "], axis=1).values)\n",
    "\n",
    "G.add_edges_from(pd.concat([\n",
    "    ('A_' + df_anime_staff['anime_id'].astype(str)),\n",
    "    ('S_' + df_anime_staff['staff_id'].astype(str))\n",
    "], axis=1).values)\n"
   ]
  },
  {
   "cell_type": "code",
   "execution_count": null,
   "metadata": {},
   "outputs": [],
   "source": [
    "def df_to_node_attribute(df, exclude_cols, dict_constants):\n",
    "    return df\\\n",
    "        .drop(columns=exclude_cols)\\\n",
    "        .set_index('id')\\\n",
    "        .assign(**dict_constants)\\\n",
    "        .to_dict(orient = 'index')"
   ]
  },
  {
   "cell_type": "code",
   "execution_count": null,
   "metadata": {},
   "outputs": [],
   "source": [
    "# node_attributes = {\n",
    "#     **df_to_node_attribute(df_anime,      'anime_id',      dict(nodetype='anime')),\n",
    "#     **df_to_node_attribute(df_character,  'character_id',  dict(nodetype='character')),\n",
    "#     **df_to_node_attribute(df_voiceactor, 'voiceactor_id', dict(nodetype='voiceactor')),\n",
    "#     **df_to_node_attribute(df_staff,      'staff_id',      dict(nodetype='staff')),\n",
    "# }"
   ]
  },
  {
   "cell_type": "code",
   "execution_count": null,
   "metadata": {},
   "outputs": [],
   "source": [
    "# nx.set_node_attributes(G, node_attributes)"
   ]
  },
  {
   "cell_type": "code",
   "execution_count": null,
   "metadata": {},
   "outputs": [],
   "source": [
    "nx.write_graphml(G, 'web/animegraph.graphml')"
   ]
  },
  {
   "cell_type": "code",
   "execution_count": null,
   "metadata": {},
   "outputs": [],
   "source": [
    "nx.write_gexf(G, 'web/animegraph.gexf')"
   ]
  },
  {
   "cell_type": "code",
   "execution_count": null,
   "metadata": {},
   "outputs": [],
   "source": [
    "import json\n",
    "with open('web/cytograph.json', 'w') as f:\n",
    "    json.dump(nx.cytoscape_data(G), f)"
   ]
  },
  {
   "cell_type": "code",
   "execution_count": null,
   "metadata": {},
   "outputs": [],
   "source": [
    "from src.api import request_api_get\n",
    "\n",
    "r = await request_api_get('users/basemp44/animelist')"
   ]
  },
  {
   "cell_type": "code",
   "execution_count": null,
   "metadata": {},
   "outputs": [],
   "source": [
    "r"
   ]
  },
  {
   "cell_type": "code",
   "execution_count": null,
   "metadata": {},
   "outputs": [],
   "source": []
  }
 ],
 "metadata": {
  "kernelspec": {
   "display_name": "Python 3",
   "language": "python",
   "name": "python3"
  },
  "language_info": {
   "codemirror_mode": {
    "name": "ipython",
    "version": 3
   },
   "file_extension": ".py",
   "mimetype": "text/x-python",
   "name": "python",
   "nbconvert_exporter": "python",
   "pygments_lexer": "ipython3",
   "version": "3.10.12"
  },
  "orig_nbformat": 4
 },
 "nbformat": 4,
 "nbformat_minor": 2
}
