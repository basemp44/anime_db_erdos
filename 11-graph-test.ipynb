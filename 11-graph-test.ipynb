{
 "cells": [
  {
   "cell_type": "code",
   "execution_count": 3,
   "metadata": {},
   "outputs": [],
   "source": [
    "import joblib\n",
    "import pandas as pd\n",
    "import sqlite3 as sq\n",
    "import json\n",
    "\n",
    "from functools import reduce\n",
    "from operator import add\n",
    "from itertools import chain\n",
    "from toolz import reduceby\n",
    "\n",
    "from src.db import (\n",
    "    get_table,\n",
    ")"
   ]
  },
  {
   "cell_type": "code",
   "execution_count": 4,
   "metadata": {},
   "outputs": [],
   "source": [
    "def to_nested_dict(df, key1, key2, columns_keep=[]):\n",
    "    if len(columns_keep):\n",
    "        return {\n",
    "            k1: df\\\n",
    "                [df[key1] == k1]\\\n",
    "                .drop(key1, axis=1)\\\n",
    "                .set_index(key2)\\\n",
    "                [columns_keep]\\\n",
    "                .to_dict(orient='index')\n",
    "            for k1 in df[key1].unique()\n",
    "        }\n",
    "    else:\n",
    "        return reduceby(\n",
    "            key1,\n",
    "            lambda d1, d2: d1 + [d2[key2]],\n",
    "            df[[key1, key2]].to_dict(orient='records'),\n",
    "            []\n",
    "        )"
   ]
  },
  {
   "cell_type": "code",
   "execution_count": 5,
   "metadata": {},
   "outputs": [],
   "source": [
    "db = 'animedb.sqlite'"
   ]
  },
  {
   "cell_type": "code",
   "execution_count": 16,
   "metadata": {},
   "outputs": [],
   "source": [
    "df_anime = get_table('anime', db)[[\n",
    "    'anime_id',\n",
    "    'url',\n",
    "    'image_jpg',\n",
    "    'image_jpg_small',\n",
    "    'image_jpg_large',\n",
    "    'image_webp',\n",
    "    'image_webp_small',\n",
    "    'image_webp_large',\n",
    "    'type',\n",
    "    'source',\n",
    "    'episodes',\n",
    "    'status',\n",
    "    'aired_from',\n",
    "    'aired_to',\n",
    "    'duration',\n",
    "    'rating',\n",
    "    'score',\n",
    "    'scored_by',\n",
    "    'rank',\n",
    "    'popularity'\n",
    "]]\n",
    "\n",
    "df_anime_title          = get_table('anime_title', db)\n",
    "df_character            = get_table('character', db)\n",
    "df_voiceactor           = get_table('voiceactor', db)[[\n",
    "    'voiceactor_id',\n",
    "    'name',\n",
    "    'url',\n",
    "    'image_url',\n",
    "    'favorites'\n",
    "]]\n",
    "df_staff                = get_table('staff', db)\n",
    "df_anime_character      = get_table('anime_character', db)\n",
    "df_character_voiceactor = get_table('character_voiceactor', db)\n",
    "df_anime_staff          = get_table('anime_staff', db)\n"
   ]
  },
  {
   "cell_type": "code",
   "execution_count": 7,
   "metadata": {},
   "outputs": [],
   "source": [
    "df_character = df_character\\\n",
    "    .merge(\n",
    "        df_anime_character\\\n",
    "            .sort_values('favorites', ascending=False)\\\n",
    "            .drop_duplicates(subset='character_id')\\\n",
    "            [['character_id', 'favorites']],\n",
    "        on='character_id'\n",
    "    ).merge(\n",
    "        df_anime_character\\\n",
    "            .sort_values('role')\\\n",
    "            .drop_duplicates(subset='character_id')\\\n",
    "            [['character_id', 'role']],\n",
    "        on='character_id'\n",
    "    ).sort_values('favorites')"
   ]
  },
  {
   "cell_type": "code",
   "execution_count": 8,
   "metadata": {},
   "outputs": [],
   "source": [
    "df_anime                = df_anime[~df_anime['rating'].isin(['Rx - Hentai']) & (df_anime['scored_by']>10_000)].sort_values('scored_by', ascending=False).fillna('')\n",
    "df_anime_title          = df_anime_title[df_anime_title['anime_id'].isin(df_anime['anime_id'])].fillna('')\n",
    "df_anime_f = df_anime.merge(\n",
    "    df_anime_title[df_anime_title['type'] == 'Default'][['anime_id', 'title']]\n",
    ")\n",
    "\n",
    "df_anime_character      = df_anime_character[df_anime_character['anime_id'].isin(df_anime['anime_id'])].sort_values('favorites', ascending=False).fillna('')\n",
    "df_anime_staff          = df_anime_staff[df_anime_staff['anime_id'].isin(df_anime['anime_id'])].fillna('')\n",
    "df_character_voiceactor = df_character_voiceactor[df_character_voiceactor['character_id'].isin(df_anime_character['character_id'])].fillna('')\n",
    "df_character            = df_character[df_character['character_id'].isin(df_anime_character['character_id'])].fillna('')\n",
    "df_voiceactor           = df_voiceactor[df_voiceactor['voiceactor_id'].isin(df_character_voiceactor['voiceactor_id'])].fillna('')\n",
    "df_staff                = df_staff[df_staff['staff_id'].isin(df_anime_staff['staff_id'])].fillna('')\n",
    "\n",
    "df_anime_staff = df_anime_staff[df_anime_staff['position'].str.startswith('Theme Song')]\n",
    "df_staff = df_staff[df_staff['staff_id'].isin(df_anime_staff['staff_id'].unique())]"
   ]
  },
  {
   "cell_type": "code",
   "execution_count": 9,
   "metadata": {},
   "outputs": [],
   "source": [
    "df_anime_f['anime_id'].head()"
   ]
  },
  {
   "cell_type": "code",
   "execution_count": 8,
   "metadata": {},
   "outputs": [],
   "source": [
    "# Custom filters\n",
    "TEST_ANIMES = [16498, 5081]\n",
    "df_anime_f              = df_anime_f[df_anime_f['anime_id'].isin(TEST_ANIMES)]\n",
    "df_anime_character      = df_anime_character[df_anime_character['anime_id'].isin(TEST_ANIMES)]\n",
    "df_anime_staff          = df_anime_staff[df_anime_staff['anime_id'].isin(TEST_ANIMES)]\n",
    "df_character            = df_character[df_character['character_id'].isin(df_anime_character['character_id'])]\n",
    "df_voiceactor           = df_voiceactor[df_voiceactor['voiceactor_id'].isin(df_character_voiceactor['voiceactor_id'])]\n",
    "df_staff                = df_staff[df_staff['staff_id'].isin(df_anime_staff['staff_id'])]\n",
    "df_character_voiceactor = df_character_voiceactor[df_character_voiceactor['character_id'].isin(df_anime_character['character_id'])]"
   ]
  },
  {
   "cell_type": "code",
   "execution_count": 9,
   "metadata": {},
   "outputs": [],
   "source": [
    "character_weights=[\n",
    "    int(character_id)\n",
    "    for character_id, favorites in (df_character.set_index('character_id')['favorites']//100).reset_index().values\n",
    "    for _ in range(favorites)\n",
    "]"
   ]
  },
  {
   "cell_type": "code",
   "execution_count": 10,
   "metadata": {},
   "outputs": [],
   "source": [
    "final_dict = dict(\n",
    "    anime = df_anime_f.set_index('anime_id', drop=False).to_dict(orient='index'),\n",
    "    character = df_character.set_index('character_id', drop=False).to_dict(orient='index'),\n",
    "    voiceactor = df_voiceactor.set_index('voiceactor_id', drop=False).to_dict(orient='index'),\n",
    "    staff = df_staff.set_index('staff_id', drop=False).to_dict(orient='index'),\n",
    "    anime_character = to_nested_dict(df_anime_character, 'anime_id', 'character_id'),\n",
    "    character_anime = to_nested_dict(df_anime_character, 'character_id', 'anime_id'),\n",
    "    anime_staff = to_nested_dict(df_anime_staff[['anime_id', 'staff_id']].drop_duplicates(), 'anime_id', 'staff_id'),\n",
    "    staff_anime = to_nested_dict(df_anime_staff[['anime_id', 'staff_id']].drop_duplicates(), 'staff_id', 'anime_id'),\n",
    "    character_voiceactor = to_nested_dict(df_character_voiceactor, 'character_id', 'voiceactor_id'),\n",
    "    voiceactor_character = to_nested_dict(df_character_voiceactor, 'voiceactor_id', 'character_id'),\n",
    "    character_weights = character_weights\n",
    ")"
   ]
  },
  {
   "cell_type": "code",
   "execution_count": 37,
   "metadata": {},
   "outputs": [],
   "source": [
    "with open('animu_erdos/src/animedbtest.json', 'w') as f:\n",
    "    json.dump(final_dict, f)"
   ]
  },
  {
   "cell_type": "code",
   "execution_count": 38,
   "metadata": {},
   "outputs": [],
   "source": [
    "adsfasfasfa"
   ]
  },
  {
   "cell_type": "code",
   "execution_count": null,
   "metadata": {},
   "outputs": [],
   "source": [
    "s=df_anime_title.to_json(orient='records')\n",
    "s[:1000]"
   ]
  },
  {
   "cell_type": "code",
   "execution_count": null,
   "metadata": {},
   "outputs": [],
   "source": [
    "df_anime_f = df_anime.merge(\n",
    "    df_anime_title[df_anime_title['type'] == 'Default'][['anime_id', 'title']]\n",
    ")[['anime_id', 'title', 'image_webp', 'score', 'scored_by', 'popularity']]"
   ]
  },
  {
   "cell_type": "code",
   "execution_count": null,
   "metadata": {},
   "outputs": [],
   "source": [
    "df_anime['id']      = ('A_' + df_anime['anime_id'].astype(str))\n",
    "df_character['id']  = ('C_' + df_character['character_id'].astype(str))\n",
    "df_voiceactor['id'] = ('V_' + df_voiceactor['voiceactor_id'].astype(str))\n",
    "df_staff['id']      = ('S_' + df_staff['staff_id'].astype(str))"
   ]
  },
  {
   "cell_type": "code",
   "execution_count": null,
   "metadata": {},
   "outputs": [],
   "source": [
    "import networkx as nx\n",
    "G = nx.Graph()\n",
    "\n",
    "G.add_nodes_from(pd.concat([\n",
    "    ('A_' + df_anime['anime_id'].astype(str)),\n",
    "    ('C_' + df_character['character_id'].astype(str)),\n",
    "    ('V_' + df_voiceactor['voiceactor_id'].astype(str)),\n",
    "    ('S_' + df_staff['staff_id'].astype(str))\n",
    "]).values)"
   ]
  },
  {
   "cell_type": "code",
   "execution_count": null,
   "metadata": {},
   "outputs": [],
   "source": [
    "G.add_edges_from(pd.concat([\n",
    "    ('A_' + df_anime_character['anime_id'].astype(str)),\n",
    "    ('C_' + df_anime_character['character_id'].astype(str))\n",
    "], axis=1).values)\n",
    "\n",
    "G.add_edges_from(pd.concat([\n",
    "    ('C_' + df_character_voiceactor['character_id'].astype(str)),\n",
    "    ('V_' + df_character_voiceactor['voiceactor_id'].astype(str))\n",
    "], axis=1).values)\n",
    "\n",
    "G.add_edges_from(pd.concat([\n",
    "    ('A_' + df_anime_staff['anime_id'].astype(str)),\n",
    "    ('S_' + df_anime_staff['staff_id'].astype(str))\n",
    "], axis=1).values)\n"
   ]
  },
  {
   "cell_type": "code",
   "execution_count": null,
   "metadata": {},
   "outputs": [],
   "source": [
    "def df_to_node_attribute(df, exclude_cols, dict_constants):\n",
    "    return df\\\n",
    "        .drop(columns=exclude_cols)\\\n",
    "        .set_index('id')\\\n",
    "        .assign(**dict_constants)\\\n",
    "        .to_dict(orient = 'index')"
   ]
  },
  {
   "cell_type": "code",
   "execution_count": null,
   "metadata": {},
   "outputs": [],
   "source": [
    "# node_attributes = {\n",
    "#     **df_to_node_attribute(df_anime,      'anime_id',      dict(nodetype='anime')),\n",
    "#     **df_to_node_attribute(df_character,  'character_id',  dict(nodetype='character')),\n",
    "#     **df_to_node_attribute(df_voiceactor, 'voiceactor_id', dict(nodetype='voiceactor')),\n",
    "#     **df_to_node_attribute(df_staff,      'staff_id',      dict(nodetype='staff')),\n",
    "# }"
   ]
  },
  {
   "cell_type": "code",
   "execution_count": null,
   "metadata": {},
   "outputs": [],
   "source": [
    "# nx.set_node_attributes(G, node_attributes)"
   ]
  },
  {
   "cell_type": "code",
   "execution_count": null,
   "metadata": {},
   "outputs": [],
   "source": [
    "nx.write_graphml(G, 'web/animegraph.graphml')"
   ]
  },
  {
   "cell_type": "code",
   "execution_count": null,
   "metadata": {},
   "outputs": [],
   "source": [
    "nx.write_gexf(G, 'web/animegraph.gexf')"
   ]
  },
  {
   "cell_type": "code",
   "execution_count": null,
   "metadata": {},
   "outputs": [],
   "source": [
    "import json\n",
    "with open('web/cytograph.json', 'w') as f:\n",
    "    json.dump(nx.cytoscape_data(G), f)"
   ]
  },
  {
   "cell_type": "code",
   "execution_count": null,
   "metadata": {},
   "outputs": [],
   "source": [
    "from src.api import request_api_get\n",
    "\n",
    "r = await request_api_get('users/basemp44/animelist')"
   ]
  },
  {
   "cell_type": "code",
   "execution_count": null,
   "metadata": {},
   "outputs": [],
   "source": [
    "r"
   ]
  },
  {
   "cell_type": "code",
   "execution_count": null,
   "metadata": {},
   "outputs": [],
   "source": []
  }
 ],
 "metadata": {
  "kernelspec": {
   "display_name": "Python 3",
   "language": "python",
   "name": "python3"
  },
  "language_info": {
   "codemirror_mode": {
    "name": "ipython",
    "version": 3
   },
   "file_extension": ".py",
   "mimetype": "text/x-python",
   "name": "python",
   "nbconvert_exporter": "python",
   "pygments_lexer": "ipython3",
   "version": "3.10.12"
  },
  "orig_nbformat": 4
 },
 "nbformat": 4,
 "nbformat_minor": 2
}
